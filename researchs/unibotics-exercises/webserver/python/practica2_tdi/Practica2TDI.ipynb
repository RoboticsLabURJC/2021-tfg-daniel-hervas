{
 "cells": [
  {
   "cell_type": "markdown",
   "metadata": {},
   "source": [
    "<h1 align=\"center\">Practice 2</h1>\n",
    "<h2 align=\"center\"><font color=red>Spatial Image filtering</font></h2>"
   ]
  },
  {
   "cell_type": "markdown",
   "metadata": {},
   "source": [
    "---\n",
    "First of all, we need to import the necessary libraries and modules for this exercise:"
   ]
  },
  {
   "cell_type": "code",
   "execution_count": 1,
   "metadata": {},
   "outputs": [],
   "source": [
    "import numpy as np\n",
    "import cv2\n",
    "from matplotlib import pyplot as plt\n",
    "import imfunctions as imf\n",
    "%matplotlib notebook"
   ]
  },
  {
   "cell_type": "markdown",
   "metadata": {},
   "source": [
    "---"
   ]
  },
  {
   "cell_type": "markdown",
   "metadata": {},
   "source": [
    "### I. Noise contaminated images\n",
    "\n",
    "For this exercise we are going to generate images contaminated with different kinds of noise using the function imnoise that can be found in the **file** '*imfunctions'* that was imported above. First look up some information about the following noises and how they affect images:\n",
    "    - Gaussian noise\n",
    "    - Salt and Pepper noise\n",
    "    - Speckle noise\n",
    "\n",
    "Generate an image matrix with 8 bit depth, uniform intensity of 128 and size of 256x256 pixels (when displaying this image for this exercise remember to use the *min* and *max value* arguments in the function `imshow`).\n",
    "\n",
    "Now contaminate it using a white noise with a *mean = 0* and *variance = 0'01*. Display the resulting image and its histogram."
   ]
  },
  {
   "cell_type": "code",
   "execution_count": null,
   "metadata": {
    "scrolled": false
   },
   "outputs": [],
   "source": []
  },
  {
   "cell_type": "markdown",
   "metadata": {},
   "source": [
    "Contaminate the image '*coins.png*' with the same gaussian noise, display the resulting image and its histogram."
   ]
  },
  {
   "cell_type": "code",
   "execution_count": null,
   "metadata": {
    "scrolled": false
   },
   "outputs": [],
   "source": []
  },
  {
   "cell_type": "markdown",
   "metadata": {},
   "source": [
    "**Salt and pepper noise**\n",
    "\n",
    "Repeat the last process with salt and pepper noise with *density = 0'02*. Fisrt on the image with uniform intensity and then on coins."
   ]
  },
  {
   "cell_type": "code",
   "execution_count": 2,
   "metadata": {
    "scrolled": false
   },
   "outputs": [],
   "source": [
    "#for uniform intensity"
   ]
  },
  {
   "cell_type": "code",
   "execution_count": 3,
   "metadata": {
    "scrolled": false
   },
   "outputs": [],
   "source": [
    "#for coins"
   ]
  },
  {
   "cell_type": "markdown",
   "metadata": {},
   "source": [
    "**Speckle noise**\n",
    "\n",
    "Again with Speckle noise with *variance = 0'01*."
   ]
  },
  {
   "cell_type": "code",
   "execution_count": 4,
   "metadata": {},
   "outputs": [],
   "source": [
    "#for uniform intensity"
   ]
  },
  {
   "cell_type": "code",
   "execution_count": null,
   "metadata": {},
   "outputs": [],
   "source": [
    "#for coins"
   ]
  },
  {
   "cell_type": "markdown",
   "metadata": {},
   "source": [
    "### II. Softening linear filters\n",
    "\n",
    "To eliminate these kind of noises we use softening filters (low pass filter). [Here](https://docs.opencv.org/3.1.0/d4/d13/tutorial_py_filtering.html) is a link to how they work.\n",
    "\n",
    "- Averaging filter: The first step to using a linear filter is creating a Kernel. A kernel is a matrix with different characteristics depending on the filter. Averaging filters kernels must add up to one. To create one make a numpy 5x5 matrix of ones and divide it by de total size of the matrix (5x5=25) so all its digits add up to one.\n",
    "\n",
    "\n",
    "Now filter the image coins contaminated with Gaussian noise using the *OpenCV* function [filter2D](https://docs.opencv.org/2.4/modules/imgproc/doc/filtering.html?highlight=filter2d#filter2d) with the kernel just created, in border type use *cv2.BORDER_CONSTANT* (for zero padding) what this is will be explained in the next point. Display side by side the contaminated image and the filtered image."
   ]
  },
  {
   "cell_type": "code",
   "execution_count": null,
   "metadata": {},
   "outputs": [],
   "source": []
  },
  {
   "cell_type": "markdown",
   "metadata": {},
   "source": [
    "**Padding**\n",
    "\n",
    "Padding refers to the pixels \"created\" next to the border of an image so the kernel can be applied for every pixel of the original image. For example in the last exercise we used zero padding, that means the created pixels around the image are all zero wich when used creates a darker border at the edge of the image as a result of averaing with 0.\n",
    "\n",
    "Other example of padding is Mirror padding which creates these new pixels by copying those of the image starting from the closest pixel.\n",
    "To learn more about padding options in the function filter2D click [here](https://docs.opencv.org/3.1.0/d2/de8/group__core__array.html#ga209f2f4869e304c82d07739337eae7c5).\n",
    "\n",
    "Filter the image coins contaminated with gaussian noise using the same kernel as last time but with mirror padding (*cv2.BORDER_REFLECT*). Display the original, zero and mirror padding images side by side and try to spot the differences."
   ]
  },
  {
   "cell_type": "code",
   "execution_count": null,
   "metadata": {},
   "outputs": [],
   "source": []
  },
  {
   "cell_type": "markdown",
   "metadata": {},
   "source": [
    "To appreciate the difference in values between the two images Display both histograms and look and the lowest intensity vales in each of them."
   ]
  },
  {
   "cell_type": "code",
   "execution_count": null,
   "metadata": {},
   "outputs": [],
   "source": []
  },
  {
   "cell_type": "markdown",
   "metadata": {},
   "source": [
    "Now change the side of the kernel to 35x35, remember that all values must add up to 1 and filter coins+gaussian with this kernel and mirror padding.\n",
    "Display the contaminated image, the filtered image with 5x5 kernel and this new image side by side."
   ]
  },
  {
   "cell_type": "code",
   "execution_count": null,
   "metadata": {},
   "outputs": [],
   "source": []
  },
  {
   "cell_type": "markdown",
   "metadata": {},
   "source": [
    "**Salt and pepper**\n",
    "\n",
    "Filter the image coins contaminated with salt and pepper noise with the 5x5 kernel and mirror padding."
   ]
  },
  {
   "cell_type": "code",
   "execution_count": null,
   "metadata": {},
   "outputs": [],
   "source": []
  },
  {
   "cell_type": "markdown",
   "metadata": {},
   "source": [
    "**Non-linear softening filters**\n",
    "\n",
    "While the linear filter were based on the convolution of an image with an external kernel the non-linear filters operate directly with the image pixels\n",
    "- Median filter: This filter takes all the values under the kernel and asigns the median of those values to the one in the center of the kernel. This makes this filter ideal to deal with salt and pepper noise.\n",
    "\n",
    "*Opencv* has a specific function for this filter [medianblur](https://docs.opencv.org/2.4/modules/imgproc/doc/filtering.html?highlight=medianblur#medianblur). \n",
    "\n",
    "Filter the image coins contaminated with salt and pepper noise using a median filter with a kernel *size = 5*. Display the original image and this last image.\n",
    "\n",
    "Do the same for the image contaminated with gaussian noise. Which filter is better for each type of noise?\n"
   ]
  },
  {
   "cell_type": "code",
   "execution_count": null,
   "metadata": {},
   "outputs": [],
   "source": []
  },
  {
   "cell_type": "markdown",
   "metadata": {},
   "source": [
    "### III. Filter for edge detection\n",
    "\n",
    "Finite difference filters or high-pass filter are filters commonly used for edge detection. Similarly to the averaging filters they use a kernel with predetermined values, in this case the values must add up to 0. There are patterns for this Kernels that are used for different things, this kernels also make a difference between vertical and horizontal borders.\n",
    "\n",
    "- Prewitt: Only uses ones and zeroes in it's kernel. For horizontal borders the Kernel has one row with minus ones, another row of zeros and a last row of ones. For vertical is the transposed matrix for the horizontal kernel. The two resulting images ar complimentary.\n",
    "\n",
    "Filter the original coins image using a prewitt kernel (the function is `cv2.filter2d`), first get the horizontal borders, then the vertical, add the results to get the full fitered image. Display the original coins, and the three steps of the prewitt filter. \n",
    "\n",
    "To finish get the binary of the filtered image and display it."
   ]
  },
  {
   "cell_type": "code",
   "execution_count": 5,
   "metadata": {},
   "outputs": [],
   "source": [
    "#Prewitt kernels horizontal and vertical\n",
    "prewitth = np.array([[1,1,1],[0,0,0],[-1,-1,-1]])\n",
    "prewittv = np.array([[-1,0,1],[-1,0,1],[-1,0,1]])\n",
    "\n"
   ]
  },
  {
   "cell_type": "code",
   "execution_count": null,
   "metadata": {},
   "outputs": [],
   "source": []
  },
  {
   "cell_type": "markdown",
   "metadata": {},
   "source": [
    "Trying different thresholds for a better result"
   ]
  },
  {
   "cell_type": "code",
   "execution_count": null,
   "metadata": {},
   "outputs": [],
   "source": []
  },
  {
   "cell_type": "markdown",
   "metadata": {},
   "source": [
    "**Isotropic filter**\n",
    "\n",
    "This filter does the same as the Prewitt filter, being another high-pass filter but it does not requiere the double step of getting the vertical and horizontal edges. The kernel is anoter 3x3 matrix with minus one in all values but the center that is eight, this way it adds up to 0.\n",
    "\n",
    "Filter the image coins with an isotropic filter, get the binary image and display all three."
   ]
  },
  {
   "cell_type": "code",
   "execution_count": null,
   "metadata": {
    "scrolled": false
   },
   "outputs": [],
   "source": []
  },
  {
   "cell_type": "markdown",
   "metadata": {},
   "source": [
    "**Improving results**\n",
    "\n",
    "To improve results we are going to add a step of pre-processing to the image by softening it before getting the edges. Do this preprocessing step with the two softening filter used previously, then use an isotropic filter on both softened images and get the binaries (is recomended to look at the histogram in order to select a threhshold) of the result. Display the result gotten without pre-processing and this two new results, which one is better? "
   ]
  },
  {
   "cell_type": "code",
   "execution_count": null,
   "metadata": {},
   "outputs": [],
   "source": []
  },
  {
   "cell_type": "markdown",
   "metadata": {},
   "source": [
    "### IV. Composing images\n",
    "\n",
    "In this last exercise we want the contour of the coins to appear in red over the original image. For this remember that color images have three matrices (from the fisrt exercise look the color spaces and last point), you will need [arithmetic operations](https://docs.opencv.org/3.2.0/d0/d86/tutorial_py_image_arithmetics.html) ant to operate bit by bit on this matrices.\n",
    "Display this final image."
   ]
  },
  {
   "cell_type": "code",
   "execution_count": null,
   "metadata": {
    "scrolled": false
   },
   "outputs": [],
   "source": []
  }
 ],
 "metadata": {
  "kernelspec": {
   "display_name": "Python 2",
   "language": "python",
   "name": "python2"
  },
  "language_info": {
   "codemirror_mode": {
    "name": "ipython",
    "version": 2
   },
   "file_extension": ".py",
   "mimetype": "text/x-python",
   "name": "python",
   "nbconvert_exporter": "python",
   "pygments_lexer": "ipython2",
   "version": "2.7.12"
  }
 },
 "nbformat": 4,
 "nbformat_minor": 2
}
