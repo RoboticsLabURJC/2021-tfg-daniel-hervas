{
 "cells": [
  {
   "cell_type": "markdown",
   "metadata": {},
   "source": [
    "# Obstacle Avoidance Practice"
   ]
  },
  {
   "cell_type": "markdown",
   "metadata": {},
   "source": [
    "## Summary API table\n",
    "\n",
    "| Description                                    | Command                                                      |\n",
    "| ---------------------------------------------- | ------------------------------------------------------------ |\n",
    "| Send linear velocity                           | `self.motors.sendV(vel)`                                     |\n",
    "| Send the angular velocity.                     | `self.motors.sendW(angle)`                                   |\n",
    "| Get the position of the robot in the map reference system (x coordinate)| `self.pose3d.getPose3d().x`         |\n",
    "| Get the position of the robot in the map reference system (y coordinate)| `self.pose3d.getPose3d().y`         |\n",
    "| Get the orientation of the robot in the map reference system (yaw)| `self.pose3d.getPose3d().yaw`             |\n",
    "| Obtain laser sensor data (0-180º in m)        | `self.laser.getLaserData().values`                            |\n",
    "| Transform coordinates from map reference system to f1 reference system | `self.absolutas2relativas(mapx,mapy,robotx,roboty,robotyaw)` |\n",
    "| Obtain the next local target (see Target API) | `self.getNextTarget()`                                        |\n"
   ]
  },
  {
   "cell_type": "markdown",
   "metadata": {},
   "source": [
    "## Target API table\n",
    "All this functions are methods of the Target class, add `yourTargetObject.X` being X one of the next table methods.\n",
    "\n",
    "\n",
    "| Description                                    | Command                                                      |\n",
    "| ---------------------------------------------- | ------------------------------------------------------------ |\n",
    "| Mark the current target as reached  | `setReached(bool)`  |\n",
    "| Get the position of the target with regarding the map (x coordinate) | `getPose().x` |\n",
    "| Get the position of the target with regarding the map (y coordinate) | `getPose().y` |"
   ]
  },
  {
   "cell_type": "markdown",
   "metadata": {},
   "source": [
    "## GUI API table\n",
    "\n",
    "| Description                                    | Command                                                      |\n",
    "| ---------------------------------------------- | ------------------------------------------------------------ |\n",
    "| Paint the attractive vector in the car reference system | `self.setCarDirection(x,y)` |\n",
    "| Paint the repulsive vector in the car reference system | `self.setObstacleDirection(x,y)` |\n",
    "| Paint the resultant vector in the car reference system | `self.setResultantDirection(x,y)` |"
   ]
  },
  {
   "cell_type": "markdown",
   "metadata": {},
   "source": [
    "### Exercise Initialization\n",
    "\n",
    "The setting up of this exercise is done by the `Obstacle_Avoidance` class, which we have to call once. Run this code and wait a few seconds until Obstacle Avoidance initialization finishes with an OK message:"
   ]
  },
  {
   "cell_type": "code",
   "execution_count": null,
   "metadata": {},
   "outputs": [],
   "source": [
    "#! usr/bin/env python\n",
    "# -*- coding: utf-8 -*-\n",
    "\n",
    "%matplotlib inline\n",
    "\n",
    "import math\n",
    "import cv2\n",
    "import numpy as np\n",
    "from obstacle_avoidance import ObstacleAvoidance\n",
    "from datetime import datetime\n",
    "\n",
    "oa = ObstacleAvoidance()\n",
    "oa.play()"
   ]
  },
  {
   "cell_type": "markdown",
   "metadata": {},
   "source": [
    "Now we can start coding to give intelligence to the Formula-1 robot. We can do it modifying the `execute()` method from Obstacle Avoidance component. This method will be called iteratively. Let's try it with a dummy instruction: each iteration, we'll print a message:"
   ]
  },
  {
   "cell_type": "code",
   "execution_count": null,
   "metadata": {},
   "outputs": [],
   "source": [
    "# Implement execute method\n",
    "def execute(self):\n",
    "    print \"Running execute iteration\"\n",
    "      \n",
    "oa.setExecute(execute)"
   ]
  },
  {
   "cell_type": "markdown",
   "metadata": {},
   "source": [
    "Once seen the behaviour of the component code, stop printing the updating message of the method with an empty instruction (as shown in the code cell below). Then just fill this method with your own code."
   ]
  },
  {
   "cell_type": "code",
   "execution_count": null,
   "metadata": {},
   "outputs": [],
   "source": [
    "def execute(self):\n",
    "    pass\n",
    "    # your code goes here\n",
    "oa.setExecute(execute)"
   ]
  },
  {
   "cell_type": "markdown",
   "metadata": {},
   "source": [
    "### Algorithm skeleton\n",
    "\n",
    "We provide a tentative skeleton where you can code your Obstacle Avoidance. This os one pipeline of the many possible solutions for this practice. Remember that you can follow the one that is easiest for you. We propose:"
   ]
  },
  {
   "cell_type": "code",
   "execution_count": null,
   "metadata": {},
   "outputs": [],
   "source": [
    "def execute(self):\n",
    "    \n",
    "    # Get the position of the robot\n",
    "    \n",
    "    # Mark subgoals as reached when done it (targets)\n",
    "    \n",
    "    # Get sensor data\n",
    "    \n",
    "    # Convert target coordinates to coordinates relative to the robot (keep in mind its position and current angle)\n",
    "        \n",
    "    # VFF algorithm\n",
    "    # Calculate the repulsor vector\n",
    "    # use it to compute the speed and the angle\n",
    "    \n",
    "      \n",
    "    # Get next target\n",
    "    self.currentTarget = self.getNextTarget()     # To get the next target to reach\n",
    "    self.targetx = self.currentTarget.getPose().x # To get x coordinate of the next target\n",
    "    self.targety = self.currentTarget.getPose().y # To get y coordinate of the next target\n",
    "    \n",
    "    # send orders to the robot\n",
    "    self.motors.sendV(speed)\n",
    "    self.motors.sendW(angle)\n",
    "\n",
    "oa.setExecute(execute)"
   ]
  }
 ],
 "metadata": {
  "kernelspec": {
   "display_name": "Python 2",
   "language": "python",
   "name": "python2"
  },
  "language_info": {
   "codemirror_mode": {
    "name": "ipython",
    "version": 2
   },
   "file_extension": ".py",
   "mimetype": "text/x-python",
   "name": "python",
   "nbconvert_exporter": "python",
   "pygments_lexer": "ipython2",
   "version": "2.7.12"
  }
 },
 "nbformat": 4,
 "nbformat_minor": 2
}
