{
 "cells": [
  {
   "cell_type": "markdown",
   "metadata": {},
   "source": [
    "# 3D Reconstruct"
   ]
  },
  {
   "cell_type": "markdown",
   "metadata": {},
   "source": [
    "### API Summary Table\n",
    "\n",
    "| Description                                   | Method                                                       |\n",
    "| --------------------------------------------- | ------------------------------------------------------------ |\n",
    "| Get image from the left camera                | - `imageLeft = self.getImageLeft()`                          |\n",
    "| Get image from the right camera               | - `imageRight = self.getImageRight()`                        |\n",
    "| Send the camera images to the viewer.         | - `self.setImageFiltered(imageLeft)`                         |\n",
    "| Show matches between images                   | - `self.showMatches(imageLeft,imageRight,matches)`           |     \n",
    "| Draw points in 3D world                       | - `self.drawPoint(point,color)`           |"
   ]
  },
  {
   "cell_type": "code",
   "execution_count": null,
   "metadata": {},
   "outputs": [],
   "source": [
    "#!/usr/bin/python\n",
    "#-*- coding: utf-8 -*-\n",
    "\n",
    "import threading\n",
    "import time\n",
    "import math\n",
    "import cv2\n",
    "import numpy as np\n",
    "from datetime import datetime\n",
    "\n",
    "from reconstruct_3d import Reconstruct3D\n",
    "from printer import printImage"
   ]
  },
  {
   "cell_type": "code",
   "execution_count": null,
   "metadata": {
    "scrolled": false
   },
   "outputs": [],
   "source": [
    "%matplotlib inline\n",
    "\n",
    "reconstruct = Reconstruct3D()\n",
    "reconstruct.play()"
   ]
  },
  {
   "cell_type": "markdown",
   "metadata": {},
   "source": [
    "An **empty structure** of the `execute` function will look like this.\n"
   ]
  },
  {
   "cell_type": "code",
   "execution_count": null,
   "metadata": {},
   "outputs": [],
   "source": [
    "def execute(self):\n",
    "    print \"Running execute iteration\"\n",
    "      \n",
    "reconstruct.setExecute(execute)"
   ]
  },
  {
   "cell_type": "markdown",
   "metadata": {},
   "source": [
    "You can stop printing the updating of the method with an empty instruction:\n",
    "\n",
    "```python\n",
    "def execute(self):\n",
    "    pass\n",
    "    \n",
    "reconstruct.setExecute(execute)\n",
    "```"
   ]
  },
  {
   "cell_type": "markdown",
   "metadata": {},
   "source": [
    "To obtain an image of the cameras, the data is first saved and then displayed. You can use these instructions to **display the contents** of the cameras."
   ]
  },
  {
   "cell_type": "code",
   "execution_count": null,
   "metadata": {},
   "outputs": [],
   "source": [
    "def execute(self):\n",
    "    imageLeft = self.getImageLeft()\n",
    "    imageRight = self.getImageRight()\n",
    "    self.setImageFiltered(imageRight)\n",
    "    \n",
    "reconstruct.setExecute(execute)"
   ]
  },
  {
   "cell_type": "markdown",
   "metadata": {},
   "source": [
    "You can use the following instructions to **draw points**:"
   ]
  },
  {
   "cell_type": "code",
   "execution_count": null,
   "metadata": {},
   "outputs": [],
   "source": [
    "def execute(self):\n",
    "    point=np.array([1, 1, 1])\n",
    "    self.drawPoint(point,(255,255,255))\n",
    "\n",
    "reconstruct.setExecute(execute)"
   ]
  },
  {
   "cell_type": "markdown",
   "metadata": {},
   "source": [
    "To **match the points** between the two images you can use the following sequence as a basic structure."
   ]
  },
  {
   "cell_type": "code",
   "execution_count": null,
   "metadata": {},
   "outputs": [],
   "source": [
    "def execute(self):\n",
    "    imageLeft = self.getImageLeft()\n",
    "    imageRight = self.getImageRight()\n",
    "    point1=(1, 1)\n",
    "    point2=(1, 15)\n",
    "    point3=(15, 15)\n",
    "    matches = [(point1, point1),(point2,point3) ]\n",
    "    self.showMatches(imageLeft,imageRight,matches)\n",
    "    \n",
    "reconstruct.setExecute(execute)"
   ]
  },
  {
   "cell_type": "markdown",
   "metadata": {},
   "source": [
    "Remember, this is a basic structure. You can change, correct, add or remove the contents of the cells as you like.  Enjoy it."
   ]
  }
 ],
 "metadata": {
  "kernelspec": {
   "display_name": "Python 2",
   "language": "python",
   "name": "python2"
  },
  "language_info": {
   "codemirror_mode": {
    "name": "ipython",
    "version": 3
   },
   "file_extension": ".py",
   "mimetype": "text/x-python",
   "name": "python",
   "nbconvert_exporter": "python",
   "pygments_lexer": "ipython3",
   "version": "3.6.7"
  }
 },
 "nbformat": 4,
 "nbformat_minor": 2
}
