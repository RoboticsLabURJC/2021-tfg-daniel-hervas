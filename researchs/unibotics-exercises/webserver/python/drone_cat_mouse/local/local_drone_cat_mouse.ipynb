{
 "cells": [
  {
   "cell_type": "markdown",
   "metadata": {},
   "source": [
    "# Cat & Mouse Practice"
   ]
  },
  {
   "cell_type": "markdown",
   "metadata": {},
   "source": [
    "### API Summary Table\n",
    "| Description                                   | Method                                                       |\n",
    "| --------------------------------------------- | ------------------------------------------------------------ |\n",
    "| Get the images from the cameras               | - `image = self.getImage()` # ventral <br /> # To switch between front and ventral image: <br /> -`self.drone.toggleCam()` # frontal |\n",
    "| Takeoff and land the drone                    | - `self.drone.takeoff()`<br />- `self.drone.land()`          |\n",
    "| Move the robot                                | - `self.drone.sendCMDVel(vx,vy,vz,ax,ay,az)`                 |\n",
    "| Change the image inRGB to HSV                 | - `image_HSV = cv2.cvtColor()`                               |\n",
    "| Filter the red values                         | - `value_min_HSV = np.array([0, 235, 60])`<br />- ``value_max_HSV = np.array([180, 255, 255])` |\n",
    "| Filter the images                             | - `image_HSV_filtered = cv2.inRange()`                       |\n",
    "| Create a mask with the red values             | - `image_HSV_filtered_Mask = np.dstack(())`                  |\n",
    "| Get the numbers of the image rows and columns | - `size = input_image.shape`                                 |\n",
    "| Get the pixels that change of tone            | -   `position_pixel_left = []`<br />- `position_pixel_right  = []` |\n",
    "| Save the camera image                         | - `self.set_color_image(input_image)`                |\n",
    "| Save the filtered image                       | - `self.set_threshold_image(image_HSV_filtered_Mask)` |\n",
    "| Pause/resume the world                        | - `cat.pause()`<br />- `cat.resume()`                        |"
   ]
  },
  {
   "cell_type": "markdown",
   "metadata": {},
   "source": [
    "### Exercise Initialization"
   ]
  },
  {
   "cell_type": "markdown",
   "metadata": {},
   "source": [
    "First, we need to import the necessary librarys."
   ]
  },
  {
   "cell_type": "code",
   "execution_count": null,
   "metadata": {},
   "outputs": [],
   "source": [
    "# Exercise and component libraries\n",
    "from local_drone_cat_mouse import Cat\n",
    "import cv2"
   ]
  },
  {
   "cell_type": "markdown",
   "metadata": {},
   "source": [
    "To start coding, we need to call Cat class once. Run this code and wait a few seconds until cat initialization finishes with an OK message:"
   ]
  },
  {
   "cell_type": "code",
   "execution_count": null,
   "metadata": {
    "scrolled": false
   },
   "outputs": [],
   "source": [
    "%matplotlib inline\n",
    "cat = Cat()"
   ]
  },
  {
   "cell_type": "markdown",
   "metadata": {},
   "source": [
    "Once initialised, whenever you are ready to start the pursuit, just use the mehtod `play()` in order to get the <span style='color:red'>Cat Drone</span> moving and your code to be executed as shown below:"
   ]
  },
  {
   "cell_type": "code",
   "execution_count": null,
   "metadata": {},
   "outputs": [],
   "source": [
    "cat.play()"
   ]
  },
  {
   "cell_type": "markdown",
   "metadata": {},
   "source": [
    "Now we can start coding to give intelligence to the Drone robot. We can do it modifying the execute() method from drone cat mouse component. This method will be called iteratively. Each iteration, we'll print a message."
   ]
  },
  {
   "cell_type": "code",
   "execution_count": null,
   "metadata": {},
   "outputs": [],
   "source": [
    "# Implement execute method\n",
    "def execute(self):\n",
    "    print \"Running execute iteration\"\n",
    "      \n",
    "cat.setExecute(execute)"
   ]
  },
  {
   "cell_type": "markdown",
   "metadata": {},
   "source": [
    "Stop printing the updating of the method with an empty instruction:"
   ]
  },
  {
   "cell_type": "code",
   "execution_count": null,
   "metadata": {},
   "outputs": [],
   "source": [
    "def execute(self):\n",
    "    pass\n",
    "\n",
    "cat.setExecute(execute)"
   ]
  },
  {
   "cell_type": "markdown",
   "metadata": {},
   "source": [
    "### Tips and Useful Functionality\n",
    "\n",
    "Thereupon some useful functions and methods are shown in order to facilitate the coding process and the debug steps:"
   ]
  },
  {
   "cell_type": "markdown",
   "metadata": {},
   "source": [
    "To obtain an image of any camera, the data is first saved and then displayed. You can use these instructions to display the contents of the cameras"
   ]
  },
  {
   "cell_type": "code",
   "execution_count": null,
   "metadata": {},
   "outputs": [],
   "source": [
    "def execute(self):\n",
    "    img = self.drone.getImage() #Ventral Image\n",
    "    self.set_color_image(img)\n",
    "    \n",
    "cat.setExecute(execute)"
   ]
  },
  {
   "cell_type": "markdown",
   "metadata": {},
   "source": [
    "You can use the following instructions to show the filtered images:"
   ]
  },
  {
   "cell_type": "code",
   "execution_count": null,
   "metadata": {},
   "outputs": [],
   "source": [
    "def execute(self):\n",
    "    img = self.drone.getImage()\n",
    "    self.set_color_image(img)\n",
    "    \n",
    "cat.setExecute(execute)"
   ]
  },
  {
   "cell_type": "code",
   "execution_count": null,
   "metadata": {},
   "outputs": [],
   "source": [
    "def execute(self):\n",
    "    self.drone.toggleCam()\n",
    "    frontalImage = self.drone.getImage() # Frontal Image\n",
    "    self.set_color_image(frontalImage)\n",
    "    \n",
    "cat.setExecute(execute)"
   ]
  },
  {
   "cell_type": "markdown",
   "metadata": {},
   "source": [
    "To **PAUSE** the world to change drone intelligence:"
   ]
  },
  {
   "cell_type": "code",
   "execution_count": null,
   "metadata": {},
   "outputs": [],
   "source": [
    "cat.pause()\n",
    "def execute(self):\n",
    "    segmentedImage = cat.get_threshold_image()\n",
    "    self.set_threshold_image(segmentedImage)\n",
    "    \n",
    "cat.setExecute(execute)\n",
    "\n",
    "cat.resume()"
   ]
  },
  {
   "cell_type": "markdown",
   "metadata": {},
   "source": [
    "You can also **RESET** the world and the referee whenever you want, by typing and running the following:"
   ]
  },
  {
   "cell_type": "code",
   "execution_count": null,
   "metadata": {},
   "outputs": [],
   "source": [
    "cat.reset()"
   ]
  }
 ],
 "metadata": {
  "kernelspec": {
   "display_name": "Python 2",
   "language": "python",
   "name": "python2"
  },
  "language_info": {
   "codemirror_mode": {
    "name": "ipython",
    "version": 2
   },
   "file_extension": ".py",
   "mimetype": "text/x-python",
   "name": "python",
   "nbconvert_exporter": "python",
   "pygments_lexer": "ipython2",
   "version": "2.7.12"
  }
 },
 "nbformat": 4,
 "nbformat_minor": 2
}
