{
 "cells": [
  {
   "cell_type": "markdown",
   "metadata": {},
   "source": [
    "# Formula 1 Example"
   ]
  },
  {
   "cell_type": "markdown",
   "metadata": {},
   "source": [
    "<img src=\"images/jderobot.png\" width=\"15%\" height=\"15%\" style=\"float:left;padding-right:15px\"/>\n",
    "\n",
    "## 1- Introduction\n",
    "---\n",
    "\n",
    "In this exercise we are going to Know the \"Formula 1\" API.\n",
    "## 2- Exercise components\n",
    "\n",
    "<img src=\"images/Formula1.png\" width=\"30%\" height=\"30%\" style=\"float:right;padding-right:15px\"/>\n",
    "### 2.1- Gazebo simulator\n",
    "---\n",
    "Gazebo simulator will be running in the background. The Gazebo world employed for this exercise has one element: a simulated Formula1 car robot.The Formula1 robot will provide camera where the images will be provided to the student and a laser where the walls will be detected. \n"
   ]
  },
  {
   "cell_type": "markdown",
   "metadata": {},
   "source": [
    "## 3- Exercise initialization\n",
    "---\n",
    "First of all, we need to run the Gazebo simulator. After launch the gazebo simulator, we must wait a few second to let the gazebo's world be opened. Then a world like the one shows in the following picture should appears:\n",
    "\n",
    "<img src=\"images/world.png\">"
   ]
  },
  {
   "cell_type": "markdown",
   "metadata": {},
   "source": [
    "Second, we need to import the necessary files."
   ]
  },
  {
   "cell_type": "code",
   "execution_count": null,
   "metadata": {},
   "outputs": [],
   "source": [
    "#!/usr/bin/python\n",
    "#-*- coding: utf-8 -*-\n",
    "\n",
    "import threading\n",
    "import time\n",
    "import math\n",
    "import cv2\n",
    "import numpy as np\n",
    "from datetime import datetime\n",
    "\n",
    "from interfaces.motors import PublisherMotors\n",
    "\n",
    "from follow_line import FollowLine\n",
    "from printer import printImage\n",
    "\n",
    "time_cycle = 80"
   ]
  },
  {
   "cell_type": "markdown",
   "metadata": {},
   "source": [
    "To start coding, we need to call Follow_Line class once. Run this code and wait a few seconds until follow line initialization finishes with an OK message:"
   ]
  },
  {
   "cell_type": "code",
   "execution_count": null,
   "metadata": {
    "scrolled": false
   },
   "outputs": [],
   "source": [
    "%matplotlib inline\n",
    "\n",
    "fl = FollowLine()\n",
    "fl.play()"
   ]
  },
  {
   "cell_type": "markdown",
   "metadata": {},
   "source": [
    "Now we can start coding to give intelligence to the Formula1 robot. We can do it modifying the execute() method from Follow Line component. This method will be called iteratively. Each iteration, we'll print a message."
   ]
  },
  {
   "cell_type": "code",
   "execution_count": null,
   "metadata": {},
   "outputs": [],
   "source": [
    "# Implement execute method\n",
    "def execute(self):\n",
    "    print \"Running execute iteration\"\n",
    "      \n",
    "fl.setExecute(execute)"
   ]
  },
  {
   "cell_type": "markdown",
   "metadata": {},
   "source": [
    "Stop printing the updating of the method with an empty instruction:"
   ]
  },
  {
   "cell_type": "code",
   "execution_count": null,
   "metadata": {},
   "outputs": [],
   "source": [
    "def execute(self):\n",
    "    pass\n",
    "\n",
    "fl.setExecute(execute)"
   ]
  },
  {
   "cell_type": "markdown",
   "metadata": {},
   "source": [
    "### 3.1 - API\n",
    "---\n",
    "\n",
    "To get the images from the camera:\n",
    "    * input_image = self.getImage()\n",
    "\n",
    "\n",
    "To move the robot:\n",
    "    * self.motors.sendV(10)\n",
    "    * self.motors.sendW(5)\n",
    "\n",
    "To save the camera image:\n",
    "    * self.set_color_image(input_image)\n",
    "\n",
    "To save the filtered image:\n",
    "    * self.set_threshold_image(image_HSV_filtered_Mask)\n"
   ]
  },
  {
   "cell_type": "markdown",
   "metadata": {},
   "source": [
    "To obtain an image of the cameras, the data is first saved and then displayed. You can use these instructions to display the contents of the cameras."
   ]
  },
  {
   "cell_type": "code",
   "execution_count": null,
   "metadata": {},
   "outputs": [],
   "source": [
    "def execute(self):\n",
    "    img = self.getImage()\n",
    "    self.set_color_image(img)\n",
    "    \n",
    "fl.setExecute(execute)"
   ]
  },
  {
   "cell_type": "markdown",
   "metadata": {},
   "source": [
    "You can use the following instructions to show the filtered images:"
   ]
  },
  {
   "cell_type": "code",
   "execution_count": null,
   "metadata": {},
   "outputs": [],
   "source": [
    "def execute(self):\n",
    "    img = self.getImage()\n",
    "    self.set_threshold_image(img)\n",
    "    \n",
    "fl.setExecute(execute)"
   ]
  },
  {
   "cell_type": "code",
   "execution_count": null,
   "metadata": {},
   "outputs": [],
   "source": [
    "def execute(self):\n",
    "    segmentedImage = fl.get_threshold_image()\n",
    "    self.set_threshold_image(segmentedImage)\n",
    "    \n",
    "fl.setExecute(execute)"
   ]
  },
  {
   "cell_type": "code",
   "execution_count": null,
   "metadata": {},
   "outputs": [],
   "source": []
  }
 ],
 "metadata": {
  "kernelspec": {
   "display_name": "Python 2",
   "language": "python",
   "name": "python2"
  },
  "language_info": {
   "codemirror_mode": {
    "name": "ipython",
    "version": 2
   },
   "file_extension": ".py",
   "mimetype": "text/x-python",
   "name": "python",
   "nbconvert_exporter": "python",
   "pygments_lexer": "ipython2",
   "version": "2.7.12"
  }
 },
 "nbformat": 4,
 "nbformat_minor": 2
}
