{
 "cells": [
  {
   "cell_type": "markdown",
   "metadata": {},
   "source": [
    "# Labyrinth Escape Practice\n",
    "---\n",
    "<img src=\"images/jderobot.png\" width=\"15%\" height=\"15%\" style=\"float:left;padding-right:5px\"/>\n",
    "\n",
    "## 1 - Introduction\n",
    "---\n",
    "The intention of this practice is to implement the logic that allows a quadricopter to recognize the beacons on the labyrinth and follow the beacon's direction, in order to escape of it.\n",
    "\n",
    "For this practice a world has been designed for the Gazebo simulator (see section 2.1). The main task will consist of implementing a beacon detection and processing that information.\n",
    "\n",
    "To do so, the student needs to have at least the next knowledge:\n",
    "* Basic knowledge of the architecture and operation of drones\n",
    "* Python programming skills\n",
    "* Color spaces (RGB, HSV, etc)\n",
    "* Basic understanding of [OpenCV library](http://opencv.org/)\n",
    "---"
   ]
  },
  {
   "cell_type": "markdown",
   "metadata": {},
   "source": [
    "##  2 - Exercise components\n",
    "---\n",
    "<img src=\"images/world.png\" width=\"40%\" height=\"35%\" style=\"float:right;padding-right:15px;margin-top:35px;\"/>\n",
    "\n",
    "### 2.1 Gazebo Simulator\n",
    "\n",
    "Gazebo simulator will be running in the background. The Gazebo world employed for this exercise has a 3D model of the AR.Drone and 5 simulated people (disposed as shown in the image). The intention is to make the drone create a route through which it is able to cover the entire extension of the map (starting from the initial position marked), in such a way that it can go recognizing the land in search of the lost people contained in it.\n",
    "\n",
    "The AR.Drone quadrotor will provide images from its vertical camera where those people will be visualized.\n",
    "\n",
    "### 2.1 Labyrinth Escape Component\n",
    "This component has been developed specifically to carry out this exercise. This component connects to Gazebo to teleoperate the quadrotor (or send orders to it) and receives images from its camera. The student has to modify this component and add code to accomplish the exercise. In particular, it is required to modify the execute() method.\n",
    "\n",
    "### 2.3 Printer\n",
    "This class prints an image in a Jupyter Notebook for debugging purposes. It will receive processed images from Rescue People to debug our algorithm."
   ]
  },
  {
   "cell_type": "markdown",
   "metadata": {},
   "source": [
    "## 3 - Exercise initialization\n",
    "---\n",
    "First of all, we need to connect with the drone through Gazebo simulator:"
   ]
  },
  {
   "cell_type": "code",
   "execution_count": null,
   "metadata": {},
   "outputs": [],
   "source": [
    "import subprocess\n",
    "\n",
    "simulator = subprocess.Popen((\"gazebo\", \"ArDrone_labyrinth.world\"))"
   ]
  },
  {
   "cell_type": "markdown",
   "metadata": {},
   "source": [
    "Before starting to code, we need to call ``Labyrinth Escape`` class once. Run this code and wait a few seconds until rescue people initialization finishes with an ``OK`` message:"
   ]
  },
  {
   "cell_type": "code",
   "execution_count": null,
   "metadata": {},
   "outputs": [],
   "source": [
    "#! usr/bin/env python\n",
    "# -*- coding: utf-8 -*-\n",
    "\n",
    "%matplotlib inline\n",
    "\n",
    "import math\n",
    "import cv2\n",
    "import numpy as np\n",
    "from labyrinth_escape import LabyrinthEscape\n",
    "from printer import printImage\n",
    "from datetime import datetime\n",
    "\n",
    "le = LabyrinthEscape()\n",
    "le.play()"
   ]
  },
  {
   "cell_type": "markdown",
   "metadata": {},
   "source": [
    "Remember to send the takeoff order to the drone, so you can see anything on its camera:"
   ]
  },
  {
   "cell_type": "code",
   "execution_count": null,
   "metadata": {},
   "outputs": [],
   "source": [
    "le.extra.takeoff()  #We will go over the drone's API in step 3.1"
   ]
  },
  {
   "cell_type": "markdown",
   "metadata": {},
   "source": [
    "Now we can start coding to give intelligence to the drone. We can do it modifying the execute() method from ```Labyrinth Escape``` component. This method will be called iteratively about 10 times per second. To understand how it works, we are going to print a message in each iteration. For that, run the following code:"
   ]
  },
  {
   "cell_type": "code",
   "execution_count": null,
   "metadata": {},
   "outputs": [],
   "source": [
    "# Changing the execute method\n",
    "def execute(self):\n",
    "    print \"Running execute iteration\"\n",
    "      \n",
    "le.setExecute(execute)"
   ]
  },
  {
   "cell_type": "markdown",
   "metadata": {},
   "source": [
    "Stop printing the updating of the method with an empty instruction:"
   ]
  },
  {
   "cell_type": "code",
   "execution_count": null,
   "metadata": {},
   "outputs": [],
   "source": [
    "def execute(self):\n",
    "    pass\n",
    "\n",
    "le.setExecute(execute)"
   ]
  },
  {
   "cell_type": "markdown",
   "metadata": {},
   "source": [
    "Now is the time for you to begin to approach the exercise. Remember to subdivide the different problems to be addressed in small, manageable tasks to make it easier for you."
   ]
  },
  {
   "cell_type": "markdown",
   "metadata": {},
   "source": [
    "## 3.1 - API:\n",
    "---\n",
    " - Te way to send orders to the robot is the following:\n",
    "```\n",
    "self.cmdvel.sendCMDVel(valueX,valueY,0,0,0,0)\n",
    "```\n",
    "\n",
    "- You can also get navigation data with:\n",
    "```\n",
    "data = self.navdata.getNavData() \n",
    "```\n",
    "This will give you state (data.state), altitude (data.altd), vehicle (data.vehicle) and battery (data.batteryPercent).\n",
    "\n",
    "\n",
    "- Get the image from the camera as:\n",
    "```\n",
    "img = self.getImage()\n",
    "```\n",
    "```\n",
    "- Finally, you can use the drone's API, that allows you to:\n",
    "```\n",
    "self.pose.getPose3d().x, self.pose.getPose3d().y, self.pose.getPose3d().z\n",
    "```\n",
    "returns the position values of the drone in space.\n",
    "```\n",
    "self.pose.getPose3d().roll, self.pose.getPose3d().pitch, self.pose.getPose3d().yaw\n",
    "```\n",
    "returns the rotation values of the drone in space.\n",
    "```\n",
    "self.extra.toggleCam()\n",
    "```\n",
    "changes the drone's active camera (frontal or the one below).\n",
    "```\n",
    "self.extra.takeOff()\n",
    "```\n",
    "Takeoff of the drone.\n",
    "```\n",
    "self.extra.land()\n",
    "```\n",
    "landing of the drone."
   ]
  },
  {
   "cell_type": "markdown",
   "metadata": {},
   "source": [
    "To save the images, you can use the following commands:"
   ]
  },
  {
   "cell_type": "code",
   "execution_count": null,
   "metadata": {},
   "outputs": [],
   "source": [
    "def execute(self):\n",
    "    img = self.getImage()\n",
    "    self.set_color_image(img)\n",
    "    \n",
    "le.setExecute(execute)"
   ]
  },
  {
   "cell_type": "markdown",
   "metadata": {},
   "source": [
    "When you have the image saved, you can use these instructions to show the camera images:"
   ]
  },
  {
   "cell_type": "code",
   "execution_count": null,
   "metadata": {},
   "outputs": [],
   "source": [
    "imageCamera = le.get_color_image()\n",
    "printImage(imageCamera)"
   ]
  },
  {
   "cell_type": "markdown",
   "metadata": {},
   "source": [
    "Or you can use the following instructions to show the filtered images:"
   ]
  },
  {
   "cell_type": "code",
   "execution_count": null,
   "metadata": {},
   "outputs": [],
   "source": [
    "def execute(self):\n",
    "    img = self.getImage()\n",
    "    self.set_threshold_image(img)\n",
    "    \n",
    "le.setExecute(execute)"
   ]
  },
  {
   "cell_type": "code",
   "execution_count": null,
   "metadata": {},
   "outputs": [],
   "source": [
    "segmentedImage = fl.get_threshold_image()\n",
    "printImage(segmentedImage)"
   ]
  }
 ],
 "metadata": {
  "kernelspec": {
   "display_name": "Python 2",
   "language": "python",
   "name": "python2"
  },
  "language_info": {
   "codemirror_mode": {
    "name": "ipython",
    "version": 2
   },
   "file_extension": ".py",
   "mimetype": "text/x-python",
   "name": "python",
   "nbconvert_exporter": "python",
   "pygments_lexer": "ipython2",
   "version": "2.7.12"
  }
 },
 "nbformat": 4,
 "nbformat_minor": 2
}
