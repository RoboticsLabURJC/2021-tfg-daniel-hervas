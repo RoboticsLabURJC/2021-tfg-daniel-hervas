{
 "cells": [
  {
   "cell_type": "markdown",
   "metadata": {},
   "source": [
    "# Autopark Practice\n",
    "---\n",
    "<img src=\"resources/jderobot.png\" width=\"15%\" height=\"15%\" style=\"float:left;padding-right:5px\"/>\n",
    "\n",
    "## 1 - Introduction\n",
    "---\n",
    "The goal of this practice is to implement the logic of a navigation algorithm for an automated vehicle as the one shown in the image on the right. The vehicle must go straight on a road looking forward a parking space, find it and park properly, that is, finish aligned with the cars that are already parked, and that the distance with the sidewalk is not too big.\n",
    "<img src=\"resources/holotaxi.png\" width=\"35%\" height=\"35%\" style=\"float:right;padding:10px\"/>\n",
    "\n",
    "Eith that purpose, the robot has three laser sensors (front, behind and right) that will provide the data it needs.\n",
    "\n",
    "For this practice a world has been designed for the Gazebo simulator (see section 2.1). The main task will consist of making the car find an empty space where it fits, and park in it without crashing with any obstacle, and respecting some space in front and behind it.\n",
    "\n",
    "To do so, the student needs to have at least the next knowledge:\n",
    "\n",
    "* Python programming skills\n",
    "* B driving license (well, that's a joke)"
   ]
  },
  {
   "cell_type": "markdown",
   "metadata": {},
   "source": [
    "##  2 - Exercise components\n",
    "---\n",
    "<img src=\"resources/autopark_world.png\" width=\"50%\" height=\"500%\" style=\"float:left;padding-right:10px;margin-top:15px;padding-left:10px;padding-bottom:7px;\"/>\n",
    "\n",
    "### 2.1 Gazebo Simulator\n",
    "\n",
    "Gazebo simulator will be running in the background. The Gazebo world employed for this exercise has a 3D model of a simple street, composed of a road, a parking area (including cars placed in it) in which there is a single parking space, and a sidewalk. The disposal is the one shown in the image on the left.\n",
    "\n",
    "As we said, the algorithm that you have to write will be used to control the holoTaxi robot (also present in the image in yellow color), which has 3 laser sensors integrated that you can use:\n",
    "    * One on its front,\n",
    "    * Another on its rear,\n",
    "    * And the last one on its right (where the parking is).\n",
    " __Use all of them to improve your parking.__\n",
    " \n",
    "The sought result would be similar to the following:\n",
    "<img src=\"resources/result.png\" width=\"80%\" height=\"40%\" style=\"margin-top:5px;padding-left:10px;\"/>\n",
    "\n",
    "### 2.1 Autopark Component\n",
    "\n",
    "This component has been developed specifically to carry out this exercise. This component connects to Gazebo to communicate with the car robot (send orders to it and receive sensors data). The student has to modify this component and add code to accomplish the exercise. In particular, it is required to modify the execute() method."
   ]
  },
  {
   "cell_type": "markdown",
   "metadata": {},
   "source": [
    "## 3 - Exercise initialization\n",
    "---\n",
    "First of all, we need to connect with the robot through Gazebo simulator:"
   ]
  },
  {
   "cell_type": "code",
   "execution_count": null,
   "metadata": {},
   "outputs": [],
   "source": [
    "import subprocess\n",
    "\n",
    "simulator = subprocess.Popen((\"gazebo\", \"autopark.world\"))"
   ]
  },
  {
   "cell_type": "markdown",
   "metadata": {},
   "source": [
    "Wait a few seconds until it has launched. Now we are almost ready to code, but first we need to import all required python modules to carry out the practice, and then call ``Autopark`` class once. Run this code and wait a few seconds until autopark initialization finishes with an ``OK`` message:\n"
   ]
  },
  {
   "cell_type": "code",
   "execution_count": null,
   "metadata": {},
   "outputs": [],
   "source": [
    "#! usr/bin/env python\n",
    "# -*- coding: utf-8 -*-\n",
    "\n",
    "%matplotlib inline\n",
    "\n",
    "import math\n",
    "import time\n",
    "import numpy as np\n",
    "from autopark import Autopark\n",
    "from datetime import datetime\n",
    "\n",
    "ap = Autopark()\n",
    "ap.play()"
   ]
  },
  {
   "cell_type": "markdown",
   "metadata": {},
   "source": [
    "Once everything is initialized, we can start coding to give intelligence to the robot. We can do it modifying the execute() method from Autopark component as shown in the following code box. You need to know that this method will be called iteratively about 10 times per second. To understand how it works, we are going to print a message in each iteration so you can see the output. For that, run the following code:"
   ]
  },
  {
   "cell_type": "code",
   "execution_count": null,
   "metadata": {},
   "outputs": [],
   "source": [
    "# Changing the execute method\n",
    "def execute(self):\n",
    "    print \"Running execute iteration\"\n",
    "      \n",
    "ap.setExecute(execute)"
   ]
  },
  {
   "cell_type": "markdown",
   "metadata": {},
   "source": [
    "Now that you have seen it, stop printing this message. To do that, update the execute method, this time with an empty instruction:"
   ]
  },
  {
   "cell_type": "code",
   "execution_count": null,
   "metadata": {},
   "outputs": [],
   "source": [
    "def execute(self):  \n",
    "    pass\n",
    "    \n",
    "ap.setExecute(execute)"
   ]
  },
  {
   "cell_type": "markdown",
   "metadata": {},
   "source": [
    "You are now ready to start trying to solve this task. Pay special attention to the handling and processing of sensor data, since it is the key to obtain a good result in this practice. For this, you can take a look at this practice's API section (3.1) before starting the exercise, since we have predisposed some callable methods that may help you with some tasks."
   ]
  },
  {
   "cell_type": "markdown",
   "metadata": {},
   "source": [
    "## 3.1 - API:\n",
    "---"
   ]
  },
  {
   "cell_type": "markdown",
   "metadata": {},
   "source": [
    "- __Laser's API__:\n",
    "    - To get the laser data provided by each sensor (wich consists of 180 pairs of values), use:\n",
    "    ```\n",
    "    laser_data_front = self.laser1.getLaserData()\n",
    "    laser_data_rear = self.laser2.getLaserData()\n",
    "    laser_data_right = self.laser3.getLaserData()\n",
    "    ```\n",
    "    we provide the code necessary to parse laser data:\n",
    "    ```\n",
    "    laser = []\n",
    "    for i in range(laser_data.numLaser):\n",
    "        dist = laser_data.distanceData[i]/1000.0\n",
    "        angle = math.radians(i)\n",
    "        laser += [(dist, angle)]\n",
    "    ```\n",
    "    Now, your laser_data variable will be a list with 180 positions that contain both the angle of the laser beam and the distance to the point where the beam hit.\n",
    "     \n",
    "     If we painted the data collected, it will be something similar to this:\n",
    "     <img src=\"resources/laser_data.png\" width=\"40%\" height=\"40%\"/>"
   ]
  },
  {
   "cell_type": "markdown",
   "metadata": {},
   "source": [
    "- __Robot's API__:\n",
    "    - Tere is the way to get robot's position information:\n",
    "    ```\n",
    "    rx = self.pose3d.getPose3d().x   # x coordinate\n",
    "    ry = self.pose3d.getPose3d().y   # y coordinate\n",
    "    rt = self.pose3d.getPose3d().yaw   # rotation with respect the map\n",
    "    ```\n",
    "    - and to send orders to it:\n",
    "    ```\n",
    "    self.motors.sendV(speed) # send linear speed\n",
    "    self.motors.sendW(angle) # send angular speed\n",
    "    ```"
   ]
  },
  {
   "cell_type": "markdown",
   "metadata": {},
   "source": [
    "## 4 - Algorithm skeleton\n",
    "---\n",
    "We provide a __tentative basic__ skeleton where you can code your Obstacle Avoidance. This os one pipeline of the many possible solutions for this practice. Remember that you can follow the one that is easiest for you. We propose:"
   ]
  },
  {
   "cell_type": "code",
   "execution_count": null,
   "metadata": {},
   "outputs": [],
   "source": [
    "def execute(self):\n",
    "    \n",
    "    if not self.initialized:\n",
    "        # Initialize your variables if needed\n",
    "        self.initialized = True\n",
    "\n",
    "    # Get the position and orientation of the robot\n",
    "\n",
    "    # Get the data of the laser sensors and perse it\n",
    "    \n",
    "    # if not started to park:\n",
    "    \n",
    "        # If the taxi is alligned with the car in front of the parking spot\n",
    "            # start parking maneuver\n",
    "        \n",
    "        # If the taxi did not get to the car ahead\n",
    "            # the taxi drives forward\n",
    "    \n",
    "    # else:\n",
    "\n",
    "        # The taxi goes backward\n",
    "            \n",
    "            # if taxi orientation <= threshold:\n",
    "                \n",
    "                    # The car is getting into the parking space\n",
    "                    # send orders to the robot\n",
    "                    self.motors.sendV(speed)\n",
    "                    self.motors.sendW(angle)\n",
    "            # else:\n",
    "                    # The taxi straightens\n",
    "                    self.motors.sendV(speed)\n",
    "                    self.motors.sendW(angle)\n",
    "                \n",
    "                \n",
    "                    # If the taxi is very close to the car from behind:\n",
    "                        # stop and go forward\n",
    "                        \n",
    "        # else:\n",
    "            \n",
    "                # Rectify parking\n",
    "                \n",
    "                    \n",
    "                # The taxi is parked\n",
    "                print('TAXI PARKED')\n",
    "                self.motors.sendV(0) # STOP\n",
    "\n",
    "ap.setExecute(execute)"
   ]
  }
 ],
 "metadata": {
  "kernelspec": {
   "display_name": "Python 2",
   "language": "python",
   "name": "python2"
  },
  "language_info": {
   "codemirror_mode": {
    "name": "ipython",
    "version": 2
   },
   "file_extension": ".py",
   "mimetype": "text/x-python",
   "name": "python",
   "nbconvert_exporter": "python",
   "pygments_lexer": "ipython2",
   "version": "2.7.12"
  }
 },
 "nbformat": 4,
 "nbformat_minor": 2
}
