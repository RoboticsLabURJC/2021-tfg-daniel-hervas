{
 "cells": [
  {
   "cell_type": "markdown",
   "metadata": {},
   "source": [
    "# Hangar Practice"
   ]
  },
  {
   "cell_type": "markdown",
   "metadata": {},
   "source": [
    "<img src=\"images/jderobot.png\" width=\"15%\" height=\"15%\" style=\"float:left;padding-right:15px\"/>\n",
    "\n",
    "## 1- Introduction\n",
    "---\n",
    "\n",
    "In this exercise we are going to implement a \"Drone\" intelligence to exit from a hangar. To do it, the student needs to have at least the next knowledge:\n",
    "* Python programming skills\n",
    "* Color spaces (RGB, HSV, etc)\n",
    "* Basic understanding of [OpenCV library](http://opencv.org/)\n",
    "\n",
    "## 2- Exercise components\n",
    "\n",
    "<img src=\"images/drone.png\" width=\"30%\" height=\"30%\" style=\"float:right;padding-right:15px\"/>\n",
    "### 2.1- Gazebo simulator\n",
    "---\n",
    "Gazebo simulator will be running in the background. The Gazebo world employed for this exercise has one element: a simulated black drone robot (cat) and red drone (mouse).The cat will provide camera where the images will be provided to the student. \n",
    "\n",
    "### 2.2 Hangar Component\n",
    "This component has been developed specifically to carry out this exercise. This component connects to Gazebo to teleoperate the Cat (or send orders to it) and receives images from its camera. The student has to modify this component and add code to accomplish the exercise. In particular, it is required to modify the execute() method."
   ]
  },
  {
   "cell_type": "markdown",
   "metadata": {},
   "source": [
    "## 3- Exercise initialization\n",
    "---\n",
    "First of all, we need to run the Gazebo simulator. After launch the gazebo simulator, we must wait a few second to let the gazebo's world be opened. Then a world like the one shows in the following picture should appears:\n",
    "\n",
    "<img src=\"images/world.png\">"
   ]
  },
  {
   "cell_type": "markdown",
   "metadata": {},
   "source": [
    "Second, we need to import the necessary files."
   ]
  },
  {
   "cell_type": "code",
   "execution_count": null,
   "metadata": {},
   "outputs": [],
   "source": [
    "from drone_hangar import SoloDrone"
   ]
  },
  {
   "cell_type": "markdown",
   "metadata": {},
   "source": [
    "To start coding, we need to call SoloDrone class once. Run this code and wait a few seconds until Drone initialization finishes with an OK message:"
   ]
  },
  {
   "cell_type": "code",
   "execution_count": null,
   "metadata": {
    "scrolled": false
   },
   "outputs": [],
   "source": [
    "%matplotlib inline\n",
    "\n",
    "solo = SoloDrone()"
   ]
  },
  {
   "cell_type": "markdown",
   "metadata": {},
   "source": [
    "Now we can start coding to give intelligence to the Drone robot. We can do it modifying the execute() method from Drone Hangar component. This method will be called iteratively. Each iteration, we'll print a message."
   ]
  },
  {
   "cell_type": "code",
   "execution_count": null,
   "metadata": {},
   "outputs": [],
   "source": [
    "# Implement execute method\n",
    "def execute(self):\n",
    "    print \"Running execute iteration\"\n",
    "      \n",
    "solo.setExecute(execute)\n",
    "solo.play()"
   ]
  },
  {
   "cell_type": "markdown",
   "metadata": {},
   "source": [
    "Stop printing the updating of the method with an empty instruction:"
   ]
  },
  {
   "cell_type": "code",
   "execution_count": null,
   "metadata": {},
   "outputs": [],
   "source": [
    "def execute(self):\n",
    "    pass\n",
    "\n",
    "solo.setExecute(execute)"
   ]
  },
  {
   "cell_type": "markdown",
   "metadata": {},
   "source": [
    "### 3.1 - API\n",
    "---\n",
    "\n",
    "To get the images from the cameras:\n",
    "    * input_image_ventral = self.drone.getImageVentral()\n",
    "    * input_image_frontal = self.drone.getImageFrontal)\n",
    "\n",
    "\n",
    "To takeoff and land the drone:\n",
    "    * self.drone.takeoff()\n",
    "    * self.drone.land()\n",
    "\n",
    "To move the robot:\n",
    "    * self.drone.sendCMDVel(vx,vy,vz,ax,ay,az)\n",
    "\n",
    "\n",
    "To change the image inRGB to HSV:\n",
    "    * image_HSV = cv2.cvtColor()\n",
    "\n",
    "\n",
    "To filter the red values ​​:\n",
    "    * value_min_HSV = np.array([0, 235, 60])\n",
    "     * value_max_HSV = np.array([180, 255, 255])\n",
    "\n",
    "\n",
    "To filter the images:\n",
    "    * image_HSV_filtered = cv2.inRange()\n",
    "\n",
    "\n",
    "To create a mask with the red values:\n",
    "    * image_HSV_filtered_Mask = np.dstack(())\n",
    "\n",
    "\n",
    "To get the numbers of the image rows and columns:\n",
    "    * size = input_image.shape\n",
    "\n",
    "\n",
    "To get the pixels that change of tone:\n",
    "    * position_pixel_left = []\n",
    "    * position_pixel_right  = []\n",
    "\n",
    "\n",
    "After tha you must calculate the middle position of the road and then, calculate the desviation of the car:\n",
    "    * desviation = position_middle - (columns/2)\n",
    "\n",
    "Then, depending on the desviation, you should correct the position of the car.\n",
    "\n",
    "To save the camera image:\n",
    "    * self.set_color_image_ventral(input_image)\n",
    "\n",
    "To save the filtered image:\n",
    "    * self.set_threshold_image_frontal(image_HSV_filtered_Mask)\n",
    "    \n",
    "To pause/resume the world:\n",
    "    * solo.pause()\n",
    "    * solo.resume()\n",
    "    \n"
   ]
  },
  {
   "cell_type": "markdown",
   "metadata": {},
   "source": [
    "To obtain an image of the cameras, the data is first saved and then displayed. You can use these instructions to display the contents of the cameras."
   ]
  },
  {
   "cell_type": "code",
   "execution_count": null,
   "metadata": {},
   "outputs": [],
   "source": [
    "def execute(self):\n",
    "    img = self.drone.getImageFrontal()\n",
    "    self.set_color_image(img)\n",
    "    \n",
    "solo.setExecute(execute)"
   ]
  },
  {
   "cell_type": "markdown",
   "metadata": {},
   "source": [
    "You can use the following instructions to show the filtered images:"
   ]
  },
  {
   "cell_type": "code",
   "execution_count": null,
   "metadata": {},
   "outputs": [],
   "source": [
    "def execute(self):\n",
    "    img = self.getImageVentral()\n",
    "    self.set_threshold_image_ventral(img)\n",
    "    \n",
    "solo.setExecute(execute)"
   ]
  },
  {
   "cell_type": "code",
   "execution_count": null,
   "metadata": {},
   "outputs": [],
   "source": [
    "def execute(self):\n",
    "    segmentedImage = cat.get_threshold_image_frontal()\n",
    "    self.set_threshold_image_frontal(segmentedImage)\n",
    "    \n",
    "solo.setExecute(execute)"
   ]
  },
  {
   "cell_type": "markdown",
   "metadata": {},
   "source": [
    "To stop the world to change drone intelligence:"
   ]
  },
  {
   "cell_type": "code",
   "execution_count": null,
   "metadata": {},
   "outputs": [],
   "source": [
    "solo.pause()\n",
    "def execute(self):\n",
    "    segmentedImage = cat.get_threshold_image_frontal()\n",
    "    self.set_threshold_image_frontal(segmentedImage)\n",
    "    \n",
    "solo.setExecute(execute)\n",
    "\n",
    "solo.resume()\n"
   ]
  }
 ],
 "metadata": {
  "kernelspec": {
   "display_name": "Python 2",
   "language": "python",
   "name": "python2"
  },
  "language_info": {
   "codemirror_mode": {
    "name": "ipython",
    "version": 2
   },
   "file_extension": ".py",
   "mimetype": "text/x-python",
   "name": "python",
   "nbconvert_exporter": "python",
   "pygments_lexer": "ipython2",
   "version": "2.7.12"
  }
 },
 "nbformat": 4,
 "nbformat_minor": 2
}
