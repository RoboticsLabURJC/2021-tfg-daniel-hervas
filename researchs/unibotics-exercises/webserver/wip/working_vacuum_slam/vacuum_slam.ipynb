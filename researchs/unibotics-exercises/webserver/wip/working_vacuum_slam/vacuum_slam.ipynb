{
 "cells": [
  {
   "cell_type": "markdown",
   "metadata": {},
   "source": [
    "# Vacuum SLAM Practice\n",
    "---\n",
    "<img src=\"resources/logo_jderobot.png\" width=\"15%\" height=\"15%\" style=\"float:left;padding-right:5px\"/>\n",
    "\n",
    "## 1 - Introduction\n",
    "---\n",
    "The intention of this practice is to implement the logic that allows a vacuum robot clean a selected area avoiding the obstacles incluiding in it. Futhermore, the robot has implemented the auto-location skill so it will know the area previusly.\n",
    "\n",
    "For this practice a world has been designed for the Gazebo simulator (see section 2.1). The main task will consist of implementing a crash detector and a auto-location algorithm.\n",
    "\n",
    "To do so, the student needs to have at least the next knowledge:\n",
    "* Python programming skills\n",
    "* Basic understanding of [OpenCV library](http://opencv.org/)\n",
    "\n",
    "\n",
    "## 2 - Exercise Components\n",
    "---\n",
    "<img src=\"resources/vacuum_world.png\" width=\"50%\" height=\"50%\" style=\"float:right;padding-right:15px;margin-top:35px;\"/>\n",
    "\n",
    "### 2.1 - Gazebo Simulator\n",
    "Gazebo simulator will be running in the background. The Gazebo world employed for this exercise has a 3D model of the vacuum robot and a house. The intention is to make the robot clean the large area as posible with an auto-location algorithm (wich means the robot must clean with an intelligence, not just crash and turn).\n",
    "\n",
    "The vacuum rbot will provide a laser values to check the proximity of the obstacles.\n",
    "\n",
    "### 2.1 Vacuum SLAM Component\n",
    "This component has been developed specifically to carry out this exercise. This component connects to Gazebo to teleoperate the vacuum robot (or send orders to it) and receives values from its laser and the location of a map. The student has to modify this component and add code to accomplish the exercise. In particular, it is required to modify the execute() method.\n"
   ]
  },
  {
   "cell_type": "markdown",
   "metadata": {},
   "source": [
    "## 3 - Exercise initialization\n",
    "---\n",
    "First of all, we need to connect with the drone through Gazebo simulator:"
   ]
  },
  {
   "cell_type": "code",
   "execution_count": null,
   "metadata": {},
   "outputs": [],
   "source": [
    "import subprocess\n",
    "\n",
    "simulator = subprocess.Popen((\"gazebo\", \"Vacuum.world\"))"
   ]
  },
  {
   "cell_type": "markdown",
   "metadata": {},
   "source": [
    "Before starting to code, we need to call ``Vacuum SLAM`` class once. Run this code and wait a few seconds until rescue people initialization finishes with an ``OK`` message:"
   ]
  },
  {
   "cell_type": "code",
   "execution_count": null,
   "metadata": {},
   "outputs": [],
   "source": [
    "#!/usr/bin/env python\n",
    "# -*- coding: utf-8 -*-\n",
    "\n",
    "%matplotlib inline\n",
    "\n",
    "import numpy as np\n",
    "import threading\n",
    "import time\n",
    "from datetime import datetime\n",
    "from vacuum import VacuumSLAM\n",
    "import jderobot\n",
    "import math\n",
    "import cv2\n",
    "from math import pi as pi\n",
    "import random\n",
    "\n",
    "time_cycle = 80\n",
    "\n",
    "vs = VacuumSLAM()\n",
    "vs.play()"
   ]
  },
  {
   "cell_type": "markdown",
   "metadata": {},
   "source": [
    "Now we can start coding to give intelligence to the robot. We can do it modifying the execute() method from Vacuum SLAM component. This method will be called iteratively about 10 times per second. To understand how it works, we are going to print a message in each iteration. For that, run the following code:"
   ]
  },
  {
   "cell_type": "code",
   "execution_count": null,
   "metadata": {},
   "outputs": [],
   "source": [
    "# Changing the execute method\n",
    "def execute(self):\n",
    "    print \"Running execute iteration\"\n",
    "      \n",
    "rp.setExecute(execute)"
   ]
  },
  {
   "cell_type": "markdown",
   "metadata": {},
   "source": [
    "Stop printing the updating of the method with an empty instruction:"
   ]
  },
  {
   "cell_type": "code",
   "execution_count": null,
   "metadata": {},
   "outputs": [],
   "source": [
    "def execute(self):\n",
    "    pass\n",
    "\n",
    "rp.setExecute(execute)"
   ]
  },
  {
   "cell_type": "markdown",
   "metadata": {},
   "source": [
    "Now is the time for you to begin to approach the exercise. Remember to subdivide the different problems to be addressed in small, manageable tasks to make it easier for you."
   ]
  },
  {
   "cell_type": "markdown",
   "metadata": {},
   "source": [
    "### 3.1 - API\n",
    "---\n",
    "* To get the Vacuum poses:\n",
    "    * x = self.pose3d.getPose3d().x\n",
    "    * y = self.pose3d.getPose3d().y\n",
    "    * yaw = self.pose3d.getPose3d().yaw\n",
    "\n",
    "\n",
    "* To get the data of the laser sensor, which consists of 180 pairs of values:\n",
    "    * laser_data = self.laser.getLaserData()\n",
    "    \n",
    "* To get the crash state:\n",
    "    * crash = self.bumper.getBumperData().state\n",
    "    \n",
    "* To move the robot:\n",
    "    * self.motors.sendV()\n",
    "    * self.motors.sendW()"
   ]
  },
  {
   "cell_type": "code",
   "execution_count": null,
   "metadata": {},
   "outputs": [],
   "source": []
  }
 ],
 "metadata": {
  "kernelspec": {
   "display_name": "Python 2",
   "language": "python",
   "name": "python2"
  },
  "language_info": {
   "codemirror_mode": {
    "name": "ipython",
    "version": 2
   },
   "file_extension": ".py",
   "mimetype": "text/x-python",
   "name": "python",
   "nbconvert_exporter": "python",
   "pygments_lexer": "ipython2",
   "version": "2.7.12"
  }
 },
 "nbformat": 4,
 "nbformat_minor": 2
}
