{
 "cells": [
  {
   "cell_type": "markdown",
   "metadata": {},
   "source": [
    "# Visual perception from a drone on-board camera\n"
   ]
  },
  {
   "cell_type": "markdown",
   "metadata": {},
   "source": [
    "## 1- Introduction\n",
    "\n",
    "In this exercise we are going to implement a color filter to segment an object in an image. To do it, the student needs to have at least the next knowledge:\n",
    "\n",
    "- Color spaces (RGB, HSV, etc)\n",
    "- Python programming skills\n",
    "- Basic understanding of [OpenCV library](http://opencv.org/)"
   ]
  },
  {
   "cell_type": "markdown",
   "metadata": {},
   "source": [
    "## 2 - Exercise components\n",
    "\n",
    "### 2.1 Gazebo simulator\n",
    "\n",
    "Gazebo simulator will be running in the background. The Gazebo world employed for this exercise has two elements: a simulated Parrot AR.Drone and a static box.\n",
    "\n",
    "The AR.Drone quadrotor will provide images from its vertical camera where the static box will be visualized.\n",
    "\n",
    "![Gazebo world](images/gazebo_world.png \"Gazebo world\")\n",
    "\n",
    "### 2.2 Color Filter component\n",
    "\n",
    "This component has been developed specifically to carry out this exercise. This component connects to Gazebo to teleoperate the quadrotor and receives images from its camera.\n",
    "\n",
    "The student has to modify this component and add code to accomplish the exercise. In particular, it is required to modify the ``execute()`` method.\n",
    "\n",
    "### 2.3 Printer\n",
    "\n",
    "This class prints an image in a Jupyter Notebook for debugging purposes. It will receive processed images from Color Filter to debug our algorithm."
   ]
  },
  {
   "cell_type": "markdown",
   "metadata": {},
   "source": [
    "## 3 - Exercise initialization\n",
    "\n",
    "To start coding, we need to call ``ColorFilter`` class once. Run this code and wait a few seconds until color filter initialization finishes with an ``OK`` message:"
   ]
  },
  {
   "cell_type": "code",
   "execution_count": null,
   "metadata": {},
   "outputs": [],
   "source": [
    "#! /usr/bin/env python\n",
    "import numpy as np\n",
    "import cv2\n",
    "from color_filter import ColorFilter\n",
    "from printer import printImage\n",
    "%matplotlib inline\n",
    "\n",
    "# Init color filter\n",
    "cf = ColorFilter()\n",
    "cf.play()"
   ]
  },
  {
   "cell_type": "markdown",
   "metadata": {},
   "source": [
    "Now, we have to tell the simulated AR.Drone to take off, running this code:"
   ]
  },
  {
   "cell_type": "code",
   "execution_count": null,
   "metadata": {},
   "outputs": [],
   "source": [
    "# Take off\n",
    "cf.extra.takeoff()"
   ]
  },
  {
   "cell_type": "markdown",
   "metadata": {},
   "source": [
    "Once the robot is flying, we can start coding to give intelligence to the robot. We can do it modifying the ``execute()`` method from Color Filter component. This method will be called iteratively about 10 times per second. To understand how it works, we are going to print a message in each iteration:"
   ]
  },
  {
   "cell_type": "code",
   "execution_count": null,
   "metadata": {},
   "outputs": [],
   "source": [
    "# Implement execute method\n",
    "def execute(self):\n",
    "    print \"Running execute iteration\"\n",
    "      \n",
    "cf.setExecute(execute)"
   ]
  },
  {
   "cell_type": "markdown",
   "metadata": {},
   "source": [
    "Stop printing updating the method with an empty code:"
   ]
  },
  {
   "cell_type": "code",
   "execution_count": null,
   "metadata": {},
   "outputs": [],
   "source": [
    "def execute(self):\n",
    "    pass\n",
    "      \n",
    "cf.setExecute(execute)"
   ]
  },
  {
   "cell_type": "markdown",
   "metadata": {},
   "source": [
    "## 4 - Image manipulation\n",
    "\n",
    "Color filter receives images from the simulated robot. To obtain these images you can run this code inside the``execute()`` method:\n",
    "\n",
    "```\n",
    "image_input = self.camera.getImage()\n",
    "```\n",
    "\n",
    "To debug our code and show the output, there are two images that can be visualized:\n",
    "\n",
    "- We can visualize an RGB image (three channels), employed to show the images received from the simulator or manipulate them. You can set this images with this code:\n",
    "\n",
    "```\n",
    "self.set_color_image(image_three_channels)\n",
    "```\n",
    "\n",
    "- We can visualize a gray image (one channels), employed to show the color filter result:\n",
    "\n",
    "```\n",
    "self.set_filtered_image(image_one_channels)\n",
    "```\n",
    "\n",
    "You can recover these images afterwards with these commands:"
   ]
  },
  {
   "cell_type": "code",
   "execution_count": null,
   "metadata": {},
   "outputs": [],
   "source": [
    "# RGB image\n",
    "imageRGB = cf.get_color_image()\n",
    "\n",
    "# Gray image\n",
    "imageGray = cf.get_filtered_image()"
   ]
  },
  {
   "cell_type": "markdown",
   "metadata": {},
   "source": [
    "## 5 - Programming a color filter segmentation\n",
    "\n",
    "\n",
    "To accomplish this exercise the student has to implement a color filter that segments a box and detects its position inside the image.\n",
    "\n",
    "Thus, given an input image like this image:\n",
    "\n",
    "![Input image](images/input_img.png \"Input image\")\n",
    "\n",
    "The expected output would be similar to this image:\n",
    "\n",
    "![Output image](images/output_img.png \"Output image\")\n",
    "\n",
    "To obtain this result, the proposed pipeline is:\n",
    "\n",
    "1. Smooth image\n",
    "2. RGB to HSV conversion\n",
    "3. Color filter\n",
    "4. Rectangle approximation\n",
    "5. Box detection\n",
    "\n",
    "This steps are detailed in the next sections and can be easily conducted using [OpenCV library](https://opencv.org/ \"OpenCV\")"
   ]
  },
  {
   "cell_type": "markdown",
   "metadata": {},
   "source": [
    "### 5.1 - Smooth image\n",
    "\n",
    "Image smoothing is useful to remove noise or imperfections in image. For this exercise, we recommend to use a *Gaussian Filter*, that can be found in OpenCV library as [GaussianBlur](https://docs.opencv.org/2.4/modules/imgproc/doc/filtering.html?highlight=gaussianblur#gaussianblur). The expected result of this filter from the input image shown in previous section is this:\n",
    "\n",
    "![Smoothed image](images/sm_img.png \"Smoothed image\")"
   ]
  },
  {
   "cell_type": "markdown",
   "metadata": {},
   "source": [
    "### 5.2 - RGB to HSV conversion\n",
    "\n",
    "The images received from Gazebo have an RGB color space. This color space is useful to represent digital images but it is also very sensitive to light changes. Therefore, the next step is to convert our RGB image into a HSV image. We recommend to use the [cvtColor](https://docs.opencv.org/2.4/modules/imgproc/doc/miscellaneous_transformations.html#cvtcolor) function from OpenCV.\n",
    "\n",
    "If we print this image, the expected result will be similar to this image:\n",
    "\n",
    "![HSV image](images/hsv_img.png \"HSV image\")"
   ]
  },
  {
   "cell_type": "markdown",
   "metadata": {},
   "source": [
    "### 5.3 - Color filter\n",
    "\n",
    "Now we can apply our color filter to the HSV image. The OpenCV function [inRange](https://docs.opencv.org/2.4/modules/core/doc/operations_on_arrays.html?highlight=inrange#inrange) can help us to make this color filter.\n",
    "\n",
    "This function receives two arrays, the first one sets the lower HSV values of the filter, and the second one the upper values. For the first parameter (H), the expected values are in range [0, 180], whereas for S and V the values are in range [0, 255]. Thus, a filter where all pixels would be validated would have this appearance:\n",
    "\n",
    "```\n",
    "lower_values = np.array([0,0,0], dtype=np.uint8)\n",
    "upper_values = np.array([180,255,255], dtype=np.uint8)\n",
    "```\n",
    "\n",
    "Note: To represent arrays we employ the [numpy library](http://www.numpy.org/)\n",
    "\n",
    "Once the maximum and minimum values for each HSV parameters have been properly set, the thresholded image (with one channel) has to be similar to this one:\n",
    "\n",
    "![Thresholded image](images/thr_img.png \"Thresholded image\")"
   ]
  },
  {
   "cell_type": "markdown",
   "metadata": {},
   "source": [
    "### 5.4 - Rectangle approximation\n",
    "\n",
    "Trying to find a white object inside a black background is easier than trying to find a colored box inside a changing background. Therefor, from now on, we will use the thresholded image calculated in the previous step.\n",
    "\n",
    "One option to detect the box could be detecting the object contour with [findContours](https://docs.opencv.org/2.4/modules/imgproc/doc/structural_analysis_and_shape_descriptors.html?highlight=findcontours#findcontours) function. This function modifies the input image, so we recommend to create a copy before using it with the [numpy copy](https://docs.scipy.org/doc/numpy/reference/generated/numpy.copy.html) function.\n",
    "\n",
    "FindContours returns a list of points that defines the object contour. This points can be approximated to polygons using one of the next OpenCV functions: [approxPolyDP](https://docs.opencv.org/2.4/modules/imgproc/doc/structural_analysis_and_shape_descriptors.html?highlight=findcontours#approxpolydp) or [boundingRect](https://docs.opencv.org/2.4/modules/imgproc/doc/structural_analysis_and_shape_descriptors.html?highlight=findcontours#boundingrect). You can also draw the obtained rectangle with [rectangle](https://docs.opencv.org/2.4/modules/core/doc/drawing_functions.html?highlight=rectangle#rectangle) function."
   ]
  },
  {
   "cell_type": "markdown",
   "metadata": {},
   "source": [
    "### 5.5 - Box detection\n",
    "\n",
    "Since color filtering parameters are not easy to adjust (even in simulated environments), there may be several image regions with rectangles calculated in previous step. One rectangle will belong to the box we are trying to detect, where as the rest will be noisy regions.\n",
    "\n",
    "In this case, we recommend to filter the calculated rectangles to show only the one belonging to the box. You can pick up the proper rectangle setting up some restrictions, like rectangle size or shape.\n",
    "\n",
    "The final result will be the output image we show at the beginning of this section.\n",
    "\n",
    "![Output image](images/output_img.png \"Output image\")"
   ]
  },
  {
   "cell_type": "markdown",
   "metadata": {},
   "source": [
    "## 6 - Algorithm skeleton\n",
    "\n",
    "We provide an skeleton where you can code your color filtering following the previous steps:"
   ]
  },
  {
   "cell_type": "code",
   "execution_count": null,
   "metadata": {},
   "outputs": [],
   "source": [
    "def execute(self):\n",
    "      \n",
    "    # Get image\n",
    "    input_image = self.camera.getImage()\n",
    "    if input_image is None:\n",
    "        print \"Can't get images from camera, is simulator running?\"\n",
    "        return\n",
    "    \n",
    "    if input_image.any(): \n",
    "        output_img = np.copy(input_image)\n",
    "        \n",
    "        # Smooth image\n",
    "        # Add your code here\n",
    "        \n",
    "        # RGB to HSV conversion\n",
    "        # Add your code here\n",
    "        \n",
    "        # Color filter\n",
    "        # Add your code here\n",
    "        \n",
    "        # Rectangle approximation\n",
    "        # Add your code here\n",
    "        \n",
    "        # Box detection\n",
    "        # Add your code here\n",
    "\n",
    "        # Save images\n",
    "        self.set_color_image(output_img)\n",
    "        #self.set_filtered_image(thresold_img)\n",
    "\n",
    "cf.setExecute(execute)"
   ]
  },
  {
   "cell_type": "markdown",
   "metadata": {},
   "source": [
    "You can see saved images running this code:"
   ]
  },
  {
   "cell_type": "code",
   "execution_count": null,
   "metadata": {
    "scrolled": true
   },
   "outputs": [],
   "source": [
    "# Show color image\n",
    "imageCamera = cf.get_color_image()\n",
    "printImage(imageCamera)"
   ]
  },
  {
   "cell_type": "code",
   "execution_count": null,
   "metadata": {
    "scrolled": true
   },
   "outputs": [],
   "source": [
    "# Show filtered image\n",
    "imageCamera = cf.get_filtered_image()\n",
    "printImage(imageCamera)"
   ]
  },
  {
   "cell_type": "markdown",
   "metadata": {},
   "source": [
    "You can also move the drone to check if you can follow the box in the images:"
   ]
  },
  {
   "cell_type": "code",
   "execution_count": null,
   "metadata": {},
   "outputs": [],
   "source": [
    "cf.move()"
   ]
  },
  {
   "cell_type": "code",
   "execution_count": null,
   "metadata": {},
   "outputs": [],
   "source": []
  }
 ],
 "metadata": {
  "kernelspec": {
   "display_name": "Python 2",
   "language": "python",
   "name": "python2"
  },
  "language_info": {
   "codemirror_mode": {
    "name": "ipython",
    "version": 2
   },
   "file_extension": ".py",
   "mimetype": "text/x-python",
   "name": "python",
   "nbconvert_exporter": "python",
   "pygments_lexer": "ipython2",
   "version": "2.7.12"
  }
 },
 "nbformat": 4,
 "nbformat_minor": 1
}
