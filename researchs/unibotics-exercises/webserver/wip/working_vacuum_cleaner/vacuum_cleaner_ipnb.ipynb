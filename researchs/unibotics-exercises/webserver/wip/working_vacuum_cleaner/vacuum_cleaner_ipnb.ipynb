{
 "cells": [
  {
   "cell_type": "markdown",
   "metadata": {},
   "source": [
    "# Vacuum_cleaner Practice"
   ]
  },
  {
   "cell_type": "markdown",
   "metadata": {},
   "source": [
    "<img src=\"images/logo_jderobot.png\" width=\"15%\" height=\"15%\" style=\"float:left;padding-right:15px\"/>\n",
    "\n",
    "## 1- Introduction\n",
    "---\n",
    "\n",
    "In this exercise we are going to implement a vacuum cleaner intelligence to clean the house floor. To do it, the student needs to have at least the next knowledge:\n",
    "* Python programming skills\n",
    "\n",
    "## 2- Exercise components\n",
    "\n",
    "<img src=\"images/iRoomba.png\" width=\"30%\" height=\"30%\" style=\"float:right;padding-right:15px\"/>\n",
    "### 2.1- Gazebo simulator\n",
    "---\n",
    "Gazebo simulator will be running in the background. The Gazebo world employed for this exercise has one element: a simulated iRoomba robot.The iRoomba robot will provide a laser range where the objects in the world will be identified as obstacles.\n",
    "\n",
    "### 2.1 Vacuum SLAM Component\n",
    "---\n",
    "This component has been developed specifically to carry out this exercise. This component connects to Gazebo to teleoperate the vacuum robot (or send orders to it) and receives values from its laser and the location of a map. The student has to modify this component and add code to accomplish the exercise. In particular, it is required to modify the execute() method."
   ]
  },
  {
   "cell_type": "markdown",
   "metadata": {},
   "source": [
    "## 3- Exercise initialization\n",
    "---\n",
    "First of all, we need to connect with the drone through Gazebo simulator:"
   ]
  },
  {
   "cell_type": "code",
   "execution_count": null,
   "metadata": {},
   "outputs": [],
   "source": [
    "import subprocess\n",
    "\n",
    "gazebo = subprocess.Popen((\"gazebo\", \"Vacuum.world\"))"
   ]
  },
  {
   "cell_type": "markdown",
   "metadata": {},
   "source": [
    "After launch the gazebo simulator, we must wait a few second to let the gazebo's world be opened. Then a world like the one shows in the following picture should appears:\n",
    "\n",
    "<img src=\"images/Vacuum_world.png\">\n",
    "\n",
    "To start coding, we need to call VacuumCleaner class once. Run this code and wait a few seconds until vacuum cleaner initialization finishes with an OK message:"
   ]
  },
  {
   "cell_type": "code",
   "execution_count": null,
   "metadata": {},
   "outputs": [],
   "source": [
    " #! /usr/bin/env python\n",
    "#-*- coding: utf-8 -*-\n",
    "\n",
    "%matplotlib inline\n",
    "\n",
    "import numpy as np\n",
    "import threading\n",
    "import time\n",
    "from datetime import datetime\n",
    "import math\n",
    "from math import pi as pi\n",
    "import random\n",
    "from vacuum_cleaner import VacuumCleaner\n",
    "\n",
    "time_cycle = 80\n",
    "\n",
    "\n",
    "vc = VacuumCleaner()\n",
    "vc.play()"
   ]
  },
  {
   "cell_type": "markdown",
   "metadata": {},
   "source": [
    "Before starting to code, we need to call ``Vacuum SLAM`` class once. Run this code and wait a few seconds until rescue people initialization finishes with an ``OK`` message:"
   ]
  },
  {
   "cell_type": "markdown",
   "metadata": {},
   "source": [
    "Now we can start coding to give intelligence to the roomba robot. We can do it modifying the execute() method from Vacuum Cleaner component. This method will be called iteratively. Each iteration, we'll print a message."
   ]
  },
  {
   "cell_type": "code",
   "execution_count": null,
   "metadata": {},
   "outputs": [],
   "source": [
    "# Implement execute method\n",
    "def execute(self):\n",
    "    print \"Running execute iteration\"\n",
    "      \n",
    "vc.setExecute(execute)"
   ]
  },
  {
   "cell_type": "markdown",
   "metadata": {},
   "source": [
    "Stop printing the updating of the method with an empty instruction:"
   ]
  },
  {
   "cell_type": "code",
   "execution_count": null,
   "metadata": {},
   "outputs": [],
   "source": [
    "def execute(self):\n",
    "    pass\n",
    "\n",
    "rp.setExecute(execute)"
   ]
  },
  {
   "cell_type": "markdown",
   "metadata": {},
   "source": [
    "Now is the time for you to begin to approach the exercise. Remember to subdivide the different problems to be addressed in small, manageable tasks to make it easier for you."
   ]
  },
  {
   "cell_type": "markdown",
   "metadata": {},
   "source": [
    "### 3.1 - API\n",
    "---\n",
    "* To get the Vacuum poses:\n",
    "    * x = self.pose3d.getPose3d().x\n",
    "    * y = self.pose3d.getPose3d().y\n",
    "    * yaw = self.pose3d.getPose3d().yaw\n",
    "\n",
    "\n",
    "* To get the data of the laser sensor, which consists of 180 pairs of values:\n",
    "    * laser_data = self.laser.getLaserData()\n",
    "    \n",
    "* To get the crash state:\n",
    "    * crash = self.bumper.getBumperData().state\n",
    "    \n",
    "* To move the robot:\n",
    "    * self.motors.sendV()\n",
    "    * self.motors.sendW()\n"
   ]
  },
  {
   "cell_type": "code",
   "execution_count": null,
   "metadata": {},
   "outputs": [],
   "source": []
  }
 ],
 "metadata": {
  "kernelspec": {
   "display_name": "Python 2",
   "language": "python",
   "name": "python2"
  },
  "language_info": {
   "codemirror_mode": {
    "name": "ipython",
    "version": 2
   },
   "file_extension": ".py",
   "mimetype": "text/x-python",
   "name": "python",
   "nbconvert_exporter": "python",
   "pygments_lexer": "ipython2",
   "version": "2.7.12"
  }
 },
 "nbformat": 4,
 "nbformat_minor": 2
}
