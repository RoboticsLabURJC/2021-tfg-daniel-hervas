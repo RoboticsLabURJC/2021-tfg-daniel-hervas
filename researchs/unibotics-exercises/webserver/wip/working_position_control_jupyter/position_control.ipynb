{
 "cells": [
  {
   "cell_type": "markdown",
   "metadata": {},
   "source": [
    "# Position Control Practice\n",
    "---\n",
    "<img src=\"resources/jderobot.png\" width=\"15%\" height=\"15%\" style=\"float:left;padding-right:5px\"/>\n",
    "\n",
    "## 1 - Introduction\n",
    "---\n",
    "In this practice we will learn the use of PID controllers to implement a local navigation algorithm in the quadricopters.\n",
    "For this practice a world has been designed for the Gazebo simulator (see section 2.1). The main task will consist of implementing a controller that makes a route marked by the beacons placed in the 3D representation of the simulator (a Python class with the preestablished route will be provided).\n",
    "\n",
    "To do so, the student needs to have at least the next knowledge:\n",
    "* Basic knowledge of the architecture and operation of drones\n",
    "* Python programming skills\n",
    "* Basic understanding of [PID Controllers](https://en.wikipedia.org/wiki/PID_controller)\n",
    "\n",
    "---"
   ]
  },
  {
   "cell_type": "markdown",
   "metadata": {},
   "source": [
    "##  2 - Exercise components\n",
    "---\n",
    "<img src=\"resources/pc_ju.png\" width=\"50%\" height=\"50%\" style=\"float:right;padding-right:15px\"/>\n",
    "\n",
    "### 2.1 Gazebo Simulator\n",
    "\n",
    "Gazebo simulator will be running in the background. The Gazebo world employed for this exercise has a 3D model of the AR.Drone and 5 beacons arranged in cross mode. The intention is to make the drone do the following route: \n",
    "* the first beacon to visit is the one to the left of the drone, \n",
    "* the next will be the one in front, \n",
    "* then you will have to go to the one that was located to the right of the initial position, \n",
    "* then the one in the back, \n",
    "* finally to the one in front, in the most distant position. \n",
    "Finally we will make it return to the initial position and land.\n",
    "\n",
    "The AR.Drone quadrotor will provide images from its vertical camera where these beacons will be visualized.\n",
    "\n",
    "### 2.1 Position Control Component\n",
    "This component has been developed specifically to carry out this exercise. This component connects to Gazebo to teleoperate the quadrotor (or send orders to it) and receives images from its camera. The student has to modify this component and add code to accomplish the exercise. In particular, it is required to modify the execute() method and the pid() methof from PID class (explained in step 3).\n",
    "\n",
    "### 2.3 Printer\n",
    "This class prints an image in a Jupyter Notebook for debugging purposes. It will receive processed images from Position Control to debug our algorithm.\n",
    "\n"
   ]
  },
  {
   "cell_type": "markdown",
   "metadata": {},
   "source": [
    "## 3 - Exercise initialization\n",
    "---\n",
    "First of all, we need to run Gazebo simulator:"
   ]
  },
  {
   "cell_type": "code",
   "execution_count": null,
   "metadata": {},
   "outputs": [],
   "source": [
    "import subprocess\n",
    "\n",
    "simulator = subprocess.Popen((\"gazebo\", \"ardrone-beacons.world\"))\n"
   ]
  },
  {
   "cell_type": "markdown",
   "metadata": {},
   "source": [
    "To start coding, we need to call ``Position Control`` class once. Run this code and wait a few seconds until position control initialization finishes with an ``OK`` message:"
   ]
  },
  {
   "cell_type": "code",
   "execution_count": null,
   "metadata": {},
   "outputs": [],
   "source": [
    "#! usr/bin/env python\n",
    "# -*- coding: utf-8 -*-\n",
    "\n",
    "%matplotlib inline\n",
    "\n",
    "import math\n",
    "from position_control import PositionControl\n",
    "from printer import printImage\n",
    "from datetime import datetime\n",
    "\n",
    "pc = PositionControl()\n",
    "pc.play()"
   ]
  },
  {
   "cell_type": "markdown",
   "metadata": {},
   "source": [
    "Remember to send the takeoff order to the drone:"
   ]
  },
  {
   "cell_type": "code",
   "execution_count": null,
   "metadata": {},
   "outputs": [],
   "source": [
    "pc.extra.takeoff()"
   ]
  },
  {
   "cell_type": "markdown",
   "metadata": {},
   "source": [
    "Now we can start coding to give intelligence to the drone. We can do it modifying the execute() method from Position Control component. This method will be called iteratively about 10 times per second. To understand how it works, we are going to print a message in each iteration:"
   ]
  },
  {
   "cell_type": "code",
   "execution_count": null,
   "metadata": {},
   "outputs": [],
   "source": [
    "# Implement execute method\n",
    "def execute(self):\n",
    "    print \"Running execute iteration\"\n",
    "      \n",
    "pc.setExecute(execute)"
   ]
  },
  {
   "cell_type": "markdown",
   "metadata": {},
   "source": [
    "<a id='empty'>Stop printing updating the method with an empty code:</a>"
   ]
  },
  {
   "cell_type": "code",
   "execution_count": null,
   "metadata": {},
   "outputs": [],
   "source": [
    "def execute(self):\n",
    "    pass\n",
    "pc.setExecute(execute)"
   ]
  },
  {
   "cell_type": "markdown",
   "metadata": {},
   "source": [
    "In addition, two PID objects (xPid, yPid) are given so that you can implement the drone controller. The way to modify these objects is similar to that of the execute method.\n",
    "##### NOTE: modify those objects before the execute method\n",
    "\n",
    "<a id='update'>Here goes an example of how to modify the PID controller:<a>"
   ]
  },
  {
   "cell_type": "code",
   "execution_count": null,
   "metadata": {},
   "outputs": [],
   "source": [
    "def pid(self, current_value):\n",
    "    print('PID updated with value:  {}'.format(current_value))\n",
    "      \n",
    "pc.setPID(pid)"
   ]
  },
  {
   "cell_type": "code",
   "execution_count": null,
   "metadata": {},
   "outputs": [],
   "source": [
    "def execute(self):\n",
    "    self.xPid.update(4)\n",
    "    self.yPid.update(2)\n",
    "    \n",
    "pc.setExecute(execute)"
   ]
  },
  {
   "cell_type": "markdown",
   "metadata": {},
   "source": [
    "Now rerun the cell that leaves execute() method [empty](#empty)."
   ]
  },
  {
   "cell_type": "markdown",
   "metadata": {},
   "source": [
    "## 3.1 - API:\n",
    "---\n",
    " - Remember that you have at your disposal two python objects that you must use to implement your PID controller (one for each x or y axis)\n",
    " ```\n",
    " self.xPid and self.yPid\n",
    " ```\n",
    " These two objects are initialized with the following attributes:\n",
    " ```\n",
    " self.Kp = 2.0\n",
    " self.Ki = 0.0\n",
    " self.Kd = 1.0\n",
    " self.Derivator = 0\n",
    " self.Integrator = 0\n",
    " self.Integrator_max = 500\n",
    " self.Integrator_min = -500\n",
    " self.set_point = 0.0\n",
    " self.error = 0.0\n",
    " ```\n",
    " Use them to carry out the practice (include them in the update method).\n",
    " Remember aslo to [set changes on the PID's update method](#update). Then, use this method as follows:\n",
    " ```\n",
    " valueX = self.xPid.update(value)\n",
    "         or,\n",
    " valueY = self.yPid.update(value)\n",
    " ```"
   ]
  },
  {
   "cell_type": "markdown",
   "metadata": {},
   "source": [
    "- You also have a Beacon class object that collects all beacons' position that the robot have to reach. USE:\n",
    "```\n",
    "self.beacon = self.getNextBeacon()\n",
    "```\n",
    "To get the next beacon to reach,\n",
    "```\n",
    "self.beacon.isActive() and self.beacon.setActive(True) \n",
    "```\n",
    "To know if the actual beacon is yet active and to set the next active beacon (so you can reach it),\n",
    "```\n",
    "self.beacon.getPose().x and self.beacon.getPose().y\n",
    "```\n",
    "To get the coordinates of a certain beacon,\n",
    "```\n",
    "self.beacon.isReached() and self.actualBeacon.setReached(True)\n",
    "```\n",
    "To know if the actual active beacon is reached and to set it as reached once done it,\n",
    "```\n",
    "self.beacon.getId()\n",
    "```\n",
    "and finally, use the above to get the beacon's Id, for debugging purposes.\n",
    "\n"
   ]
  },
  {
   "cell_type": "markdown",
   "metadata": {},
   "source": [
    "- Finally, use the following to send orders to the robot:\n",
    "```\n",
    "self.cmdvel.sendCMDVel(valueX,valueY,0,0,0,0)\n",
    "```"
   ]
  },
  {
   "cell_type": "markdown",
   "metadata": {},
   "source": [
    "- This practice does not require the processing of the images of the drone's camera, but if you want to see the image of the camera for debug purposes you must run the following code:"
   ]
  },
  {
   "cell_type": "code",
   "execution_count": null,
   "metadata": {},
   "outputs": [],
   "source": [
    "imageCamera = pc.get_color_image()\n",
    "printImage(imageCamera)\n",
    "\n",
    "# NOTE: Previously, you have had to save an (color) image with the instruction:\n",
    "# self.set_color_image(input_image) in yur execute method\n",
    "# where:\n",
    "# 'input-image' is an image gotten from the camera as:\n",
    "# input_image = self.getImage()"
   ]
  },
  {
   "cell_type": "markdown",
   "metadata": {},
   "source": [
    "## 4 - Algorithm skeleton\n",
    "---\n",
    "We provide an skeleton where you can code your position control and PID controller:"
   ]
  },
  {
   "cell_type": "code",
   "execution_count": null,
   "metadata": {},
   "outputs": [],
   "source": [
    "def execute(self):\n",
    "    # Get next Beacon\n",
    "    self.actualBeacon = self.getNextBeacon()\n",
    "    # obtain its position, set it active and reset PID values\n",
    "    \n",
    "    # If that beacon is yet active and is not reached:\n",
    "    # Update the controllers with the position of the drone\n",
    "    # Obtain its output and use it to control the drone.\n",
    "    \n",
    "    # Check if any beacon have been reached.\n",
    "            \n",
    "pc.setExecute(execute)"
   ]
  },
  {
   "cell_type": "code",
   "execution_count": null,
   "metadata": {},
   "outputs": [],
   "source": [
    "def pid(self, current_value):\n",
    "    \n",
    "    # Calculate:\n",
    "    #    - Proportional\n",
    "    #    - Derivative\n",
    "    #    - Integral\n",
    "    # values.\n",
    "    \n",
    "    # Sum all values to obtain PID\n",
    "    return PID\n",
    "      \n",
    "pc.setPID(pid)"
   ]
  }
 ],
 "metadata": {
  "kernelspec": {
   "display_name": "Python 2",
   "language": "python",
   "name": "python2"
  },
  "language_info": {
   "codemirror_mode": {
    "name": "ipython",
    "version": 2
   },
   "file_extension": ".py",
   "mimetype": "text/x-python",
   "name": "python",
   "nbconvert_exporter": "python",
   "pygments_lexer": "ipython2",
   "version": "2.7.12"
  }
 },
 "nbformat": 4,
 "nbformat_minor": 2
}
